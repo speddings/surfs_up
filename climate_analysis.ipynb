{
 "cells": [
  {
   "cell_type": "code",
   "execution_count": 1,
   "id": "07e429dd",
   "metadata": {},
   "outputs": [],
   "source": [
    "# import all the dependancies\n",
    "\n",
    "from matplotlib import style\n",
    "style.use('fivethirtyeight')\n",
    "import matplotlib.pyplot as plt\n",
    "\n",
    "import numpy as np\n",
    "import pandas as pd\n",
    "import datetime as dt\n",
    "\n",
    "import sqlalchemy\n",
    "from sqlalchemy.ext.automap import automap_base\n",
    "from sqlalchemy.orm import session\n",
    "from sqlalchemy import create_engine, func\n"
   ]
  },
  {
   "cell_type": "markdown",
   "id": "6f29d270",
   "metadata": {},
   "source": [
    "# 9.1.5 SQL Alchemy ORM"
   ]
  },
  {
   "cell_type": "code",
   "execution_count": 2,
   "id": "26a4db69",
   "metadata": {},
   "outputs": [],
   "source": [
    "#create the engine\n",
    "engine = create_engine(\"sqlite:///hawaii.sqlite\")"
   ]
  },
  {
   "cell_type": "code",
   "execution_count": 5,
   "id": "186e7655",
   "metadata": {},
   "outputs": [],
   "source": [
    "# reflect the db into a new model\n",
    "# create a base class for an automap schema in sqlalchemy\n",
    "Base = automap_base()\n",
    "\n",
    "# 'reflecting' tbls means we create classes that help keep our code separate\n",
    "\n",
    "Base.prepare(engine, reflect=True)"
   ]
  },
  {
   "cell_type": "code",
   "execution_count": 6,
   "id": "6d40d78c",
   "metadata": {},
   "outputs": [
    {
     "data": {
      "text/plain": [
       "['measurement', 'station']"
      ]
     },
     "execution_count": 6,
     "metadata": {},
     "output_type": "execute_result"
    }
   ],
   "source": [
    "# view all of the classes that the automap found\n",
    "Base.classes.keys()"
   ]
  },
  {
   "cell_type": "code",
   "execution_count": null,
   "id": "58abf2a0",
   "metadata": {},
   "outputs": [],
   "source": [
    "# create references for each tbl\n",
    "Measurement = Base.classes.measurement\n",
    "Station = Base.classes.station"
   ]
  },
  {
   "cell_type": "code",
   "execution_count": null,
   "id": "b36efaf5",
   "metadata": {},
   "outputs": [],
   "source": [
    "# create the session (link) to the db\n",
    "session = Session(engine)"
   ]
  },
  {
   "cell_type": "markdown",
   "id": "24a5587f",
   "metadata": {},
   "source": [
    "# 9.2.1 precipitation data"
   ]
  },
  {
   "cell_type": "code",
   "execution_count": null,
   "id": "8300239e",
   "metadata": {},
   "outputs": [],
   "source": []
  },
  {
   "cell_type": "code",
   "execution_count": null,
   "id": "b9e241f9",
   "metadata": {},
   "outputs": [],
   "source": []
  }
 ],
 "metadata": {
  "kernelspec": {
   "display_name": "PythonData",
   "language": "python",
   "name": "pythondata"
  },
  "language_info": {
   "codemirror_mode": {
    "name": "ipython",
    "version": 3
   },
   "file_extension": ".py",
   "mimetype": "text/x-python",
   "name": "python",
   "nbconvert_exporter": "python",
   "pygments_lexer": "ipython3",
   "version": "3.7.13"
  }
 },
 "nbformat": 4,
 "nbformat_minor": 5
}
